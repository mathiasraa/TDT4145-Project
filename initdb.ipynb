{
 "cells": [
  {
   "cell_type": "code",
   "execution_count": 1,
   "metadata": {},
   "outputs": [
    {
     "ename": "OperationalError",
     "evalue": "table Land already exists",
     "output_type": "error",
     "traceback": [
      "\u001b[0;31m---------------------------------------------------------------------------\u001b[0m",
      "\u001b[0;31mOperationalError\u001b[0m                          Traceback (most recent call last)",
      "\u001b[1;32m/Users/mathiasraa/Desktop/ntnu/tdt4145-project/initdb.ipynb Cell 1'\u001b[0m in \u001b[0;36m<cell line: 27>\u001b[0;34m()\u001b[0m\n\u001b[1;32m     <a href='vscode-notebook-cell:/Users/mathiasraa/Desktop/ntnu/tdt4145-project/initdb.ipynb#ch0000000?line=24'>25</a>\u001b[0m cursor \u001b[39m=\u001b[39m connection\u001b[39m.\u001b[39mcursor()\n\u001b[1;32m     <a href='vscode-notebook-cell:/Users/mathiasraa/Desktop/ntnu/tdt4145-project/initdb.ipynb#ch0000000?line=26'>27</a>\u001b[0m \u001b[39mfor\u001b[39;00m mutation \u001b[39min\u001b[39;00m mutations:\n\u001b[0;32m---> <a href='vscode-notebook-cell:/Users/mathiasraa/Desktop/ntnu/tdt4145-project/initdb.ipynb#ch0000000?line=27'>28</a>\u001b[0m   cursor\u001b[39m.\u001b[39;49mexecute(mutation)\n\u001b[1;32m     <a href='vscode-notebook-cell:/Users/mathiasraa/Desktop/ntnu/tdt4145-project/initdb.ipynb#ch0000000?line=29'>30</a>\u001b[0m connection\u001b[39m.\u001b[39mcommit()\n\u001b[1;32m     <a href='vscode-notebook-cell:/Users/mathiasraa/Desktop/ntnu/tdt4145-project/initdb.ipynb#ch0000000?line=30'>31</a>\u001b[0m connection\u001b[39m.\u001b[39mclose()\n",
      "\u001b[0;31mOperationalError\u001b[0m: table Land already exists"
     ]
    }
   ],
   "source": [
    "import sqlite3\n",
    "\n",
    "# CONSTANTS\n",
    "DATABASE = \"kaffedb.db\" \n",
    "DATABASE_SQL = \"kaffedb.sql\"\n",
    "INITIAL_DATA = \"initialdata.json\"\n",
    "\n",
    "# CREATE DATABASE\n",
    "connection = sqlite3.connect(DATABASE)\n",
    "\n",
    "database_sql = open(DATABASE_SQL, 'r', encoding=\"utf-8\")\n",
    "sql = database_sql.read()\n",
    "database_sql.close()\n",
    "\n",
    "sql = sql.split(\"-- -----------------------------------------------------\")\n",
    "sql.pop(0)\n",
    "\n",
    "mutations = []\n",
    "\n",
    "for i in range(len(sql)):\n",
    "  if i % 2 != 0:\n",
    "    mutations.append(sql[i])\n",
    "\n",
    "\n",
    "cursor = connection.cursor()\n",
    "\n",
    "for mutation in mutations:\n",
    "  cursor.execute(mutation)\n",
    "\n",
    "connection.commit()\n",
    "connection.close()\n"
   ]
  },
  {
   "cell_type": "code",
   "execution_count": 3,
   "metadata": {},
   "outputs": [
    {
     "ename": "IntegrityError",
     "evalue": "UNIQUE constraint failed: Land.LandID",
     "output_type": "error",
     "traceback": [
      "\u001b[0;31m---------------------------------------------------------------------------\u001b[0m",
      "\u001b[0;31mIntegrityError\u001b[0m                            Traceback (most recent call last)",
      "\u001b[1;32m/Users/mathiasraa/Desktop/ntnu/tdt4145-project/initdb.ipynb Cell 2'\u001b[0m in \u001b[0;36m<cell line: 11>\u001b[0;34m()\u001b[0m\n\u001b[1;32m     <a href='vscode-notebook-cell:/Users/mathiasraa/Desktop/ntnu/tdt4145-project/initdb.ipynb#ch0000001?line=10'>11</a>\u001b[0m \u001b[39mfor\u001b[39;00m table \u001b[39min\u001b[39;00m initial_data_file:\n\u001b[1;32m     <a href='vscode-notebook-cell:/Users/mathiasraa/Desktop/ntnu/tdt4145-project/initdb.ipynb#ch0000001?line=11'>12</a>\u001b[0m   \u001b[39mfor\u001b[39;00m table_row \u001b[39min\u001b[39;00m initial_data_file[table]:\n\u001b[0;32m---> <a href='vscode-notebook-cell:/Users/mathiasraa/Desktop/ntnu/tdt4145-project/initdb.ipynb#ch0000001?line=12'>13</a>\u001b[0m     cursor\u001b[39m.\u001b[39;49mexecute(\u001b[39mf\u001b[39;49m\u001b[39m'''\u001b[39;49m\u001b[39mINSERT INTO \u001b[39;49m\u001b[39m{\u001b[39;49;00mtable\u001b[39m}\u001b[39;49;00m\u001b[39m \u001b[39;49m\u001b[39m{\u001b[39;49;00m\u001b[39mstr\u001b[39;49m(\u001b[39mtuple\u001b[39;49m(table_row\u001b[39m.\u001b[39;49mkeys()))\u001b[39m}\u001b[39;49;00m\u001b[39m VALUES \u001b[39;49m\u001b[39m{\u001b[39;49;00m\u001b[39mstr\u001b[39;49m(\u001b[39mtuple\u001b[39;49m(table_row\u001b[39m.\u001b[39;49mvalues()))\u001b[39m}\u001b[39;49;00m\u001b[39m;\u001b[39;49m\u001b[39m'''\u001b[39;49m)\n\u001b[1;32m     <a href='vscode-notebook-cell:/Users/mathiasraa/Desktop/ntnu/tdt4145-project/initdb.ipynb#ch0000001?line=14'>15</a>\u001b[0m connection\u001b[39m.\u001b[39mcommit()\n\u001b[1;32m     <a href='vscode-notebook-cell:/Users/mathiasraa/Desktop/ntnu/tdt4145-project/initdb.ipynb#ch0000001?line=15'>16</a>\u001b[0m connection\u001b[39m.\u001b[39mclose()\n",
      "\u001b[0;31mIntegrityError\u001b[0m: UNIQUE constraint failed: Land.LandID"
     ]
    }
   ],
   "source": [
    "# LOAD INITIAL DATA\n",
    "import json\n",
    "\n",
    "initial_data = open(INITIAL_DATA, \"r\", encoding=\"utf-8\")\n",
    "initial_data_file = json.load(initial_data)\n",
    "initial_data.close()\n",
    "\n",
    "connection = sqlite3.connect(DATABASE)\n",
    "cursor = connection.cursor()\n",
    "\n",
    "for table in initial_data_file:\n",
    "  for table_row in initial_data_file[table]:\n",
    "    cursor.execute(f'''INSERT INTO {table} {str(tuple(table_row.keys()))} VALUES {str(tuple(table_row.values()))};''')\n",
    "\n",
    "connection.commit()\n",
    "connection.close()"
   ]
  },
  {
   "cell_type": "code",
   "execution_count": 4,
   "metadata": {},
   "outputs": [],
   "source": [
    "connection.close()"
   ]
  }
 ],
 "metadata": {
  "interpreter": {
   "hash": "87954a8c3d1df39e782159dbf2add6282b709f49ed5d77c1f3f83eb69e4d4adf"
  },
  "kernelspec": {
   "display_name": "Python 3.10.1 64-bit",
   "language": "python",
   "name": "python3"
  },
  "language_info": {
   "codemirror_mode": {
    "name": "ipython",
    "version": 3
   },
   "file_extension": ".py",
   "mimetype": "text/x-python",
   "name": "python",
   "nbconvert_exporter": "python",
   "pygments_lexer": "ipython3",
   "version": "3.8.9"
  },
  "orig_nbformat": 4
 },
 "nbformat": 4,
 "nbformat_minor": 2
}
