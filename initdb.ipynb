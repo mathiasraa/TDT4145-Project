{
 "cells": [
  {
   "cell_type": "code",
   "execution_count": 21,
   "metadata": {},
   "outputs": [],
   "source": [
    "import sqlite3\n",
    "\n",
    "# CREATE DATABASE\n",
    "connection = sqlite3.connect('kaffedb.db')\n",
    "\n",
    "fd = open('kaffedb.sql', 'r', encoding=\"utf-8\")\n",
    "sqlFile = fd.read()\n",
    "fd.close()\n",
    "\n",
    "sqlFile = sqlFile.split(\"-- -----------------------------------------------------\")\n",
    "sqlFile.pop(0)\n",
    "\n",
    "queries = []\n",
    "\n",
    "for i in range(len(sqlFile)):\n",
    "  if i % 2 != 0:\n",
    "    queries.append(sqlFile[i])\n",
    "\n",
    "\n",
    "cursor = connection.cursor()\n",
    "\n",
    "for query in queries:\n",
    "  cursor.execute(query)\n",
    "\n",
    "\n",
    "connection.commit()\n",
    "connection.close()\n"
   ]
  },
  {
   "cell_type": "code",
   "execution_count": 22,
   "metadata": {},
   "outputs": [],
   "source": [
    "# LOAD INITIAL DATA\n",
    "\n",
    "connection = sqlite3.connect('kaffedb.db')\n",
    "cursor = connection.cursor()\n",
    "\n",
    "fd = open('initialdata.sql', 'r', encoding=\"utf-8\")\n",
    "sqlFile = fd.read().split(\"--\")\n",
    "fd.close()\n",
    "\n",
    "for query in sqlFile:\n",
    "  cursor.execute(query)\n",
    "\n",
    "connection.commit()\n",
    "connection.close()"
   ]
  }
 ],
 "metadata": {
  "interpreter": {
   "hash": "87954a8c3d1df39e782159dbf2add6282b709f49ed5d77c1f3f83eb69e4d4adf"
  },
  "kernelspec": {
   "display_name": "Python 3.10.1 64-bit",
   "language": "python",
   "name": "python3"
  },
  "language_info": {
   "codemirror_mode": {
    "name": "ipython",
    "version": 3
   },
   "file_extension": ".py",
   "mimetype": "text/x-python",
   "name": "python",
   "nbconvert_exporter": "python",
   "pygments_lexer": "ipython3",
   "version": "3.10.1"
  },
  "orig_nbformat": 4
 },
 "nbformat": 4,
 "nbformat_minor": 2
}
