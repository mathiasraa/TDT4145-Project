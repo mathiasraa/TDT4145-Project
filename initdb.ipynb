{
 "cells": [
  {
   "cell_type": "code",
   "execution_count": 33,
   "metadata": {},
   "outputs": [],
   "source": [
    "import sqlite3\n",
    "\n",
    "# CREATE DATABASE\n",
    "connection = sqlite3.connect('kaffedb.db')\n",
    "\n",
    "fd = open('kaffedb.sql', 'r', encoding=\"utf-8\")\n",
    "sqlFile = fd.read()\n",
    "fd.close()\n",
    "\n",
    "sqlFile = sqlFile.split(\"-- -----------------------------------------------------\")\n",
    "sqlFile.pop(0)\n",
    "\n",
    "mutations = []\n",
    "\n",
    "for i in range(len(sqlFile)):\n",
    "  if i % 2 != 0:\n",
    "    mutations.append(sqlFile[i])\n",
    "\n",
    "\n",
    "cursor = connection.cursor()\n",
    "\n",
    "for mutation in mutations:\n",
    "  cursor.execute(mutation)\n",
    "\n",
    "\n",
    "connection.commit()\n",
    "connection.close()\n"
   ]
  },
  {
   "cell_type": "code",
   "execution_count": 34,
   "metadata": {},
   "outputs": [],
   "source": [
    "# LOAD INITIAL DATA\n",
    "import json\n",
    "\n",
    "initial_data = open(\"initialdata.json\", \"r\", encoding=\"utf-8\")\n",
    "initial_data_file = json.load(initial_data)\n",
    "initial_data.close()\n",
    "\n",
    "connection = sqlite3.connect('kaffedb.db')\n",
    "cursor = connection.cursor()\n",
    "\n",
    "for table in initial_data_file:\n",
    "  for row in initial_data_file[table]:\n",
    "    cursor.execute(f'''INSERT INTO {table} {str(tuple(row.keys()))} VALUES {str(tuple(row.values()))};''')\n",
    "\n",
    "connection.commit()\n",
    "connection.close()"
   ]
  },
  {
   "cell_type": "code",
   "execution_count": 32,
   "metadata": {},
   "outputs": [],
   "source": [
    "connection.close()"
   ]
  }
 ],
 "metadata": {
  "interpreter": {
   "hash": "87954a8c3d1df39e782159dbf2add6282b709f49ed5d77c1f3f83eb69e4d4adf"
  },
  "kernelspec": {
   "display_name": "Python 3.10.1 64-bit",
   "language": "python",
   "name": "python3"
  },
  "language_info": {
   "codemirror_mode": {
    "name": "ipython",
    "version": 3
   },
   "file_extension": ".py",
   "mimetype": "text/x-python",
   "name": "python",
   "nbconvert_exporter": "python",
   "pygments_lexer": "ipython3",
   "version": "3.10.1"
  },
  "orig_nbformat": 4
 },
 "nbformat": 4,
 "nbformat_minor": 2
}
