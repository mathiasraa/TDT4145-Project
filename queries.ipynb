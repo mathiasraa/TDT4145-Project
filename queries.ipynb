{
 "cells": [
  {
   "cell_type": "code",
   "execution_count": 60,
   "metadata": {},
   "outputs": [
    {
     "name": "stdout",
     "output_type": "stream",
     "text": [
      "('Gårdsnavn', 'RwandaRegion', 'Rwanda')\n",
      "('Nombre de Dios', 'Santa Ana', 'El Salvador')\n",
      "\n",
      "('Bourbon', 'arabica')\n",
      "\n",
      "('Bourbon', 'arabica', '2019')\n"
     ]
    }
   ],
   "source": [
    "import sqlite3\n",
    "\n",
    "connection = sqlite3.connect('kaffedb.db')\n",
    "cursor = connection.cursor()\n",
    "\n",
    "cursor.execute('''select Gård.Navn, Region.Navn, Land.Navn from Gård\n",
    "                join Region\n",
    "                join Land\n",
    "                where Land_LandID = LandID and Gård.Region_RegionID = Region.RegionID''')\n",
    "\n",
    "rows = cursor.fetchall()\n",
    "\n",
    "for row in rows:\n",
    "    print(row)\n",
    "print()\n",
    "\n",
    "cursor.execute('''select Kaffebønne.Navn, KaffebønneArt.Art from Kaffebønne\n",
    "                join KaffebønneArt where KaffebønneArt_KaffebønneArtID = KaffebønneArtID''')\n",
    "\n",
    "rows = cursor.fetchall()\n",
    "\n",
    "for row in rows:\n",
    "    print(row)\n",
    "print()\n",
    "\n",
    "cursor.execute('''select Kaffebønne.Navn, KaffebønneArt.Art, Kaffeparti.Innhøstingsår from KaffepartiHarKaffebønne\n",
    "                  join Kaffebønne\n",
    "                  join KaffebønneArt\n",
    "                  join Kaffeparti\n",
    "                  where KaffepartiHarKaffebønne.Kaffebønne_KaffebønneID = Kaffebønne.KaffebønneID\n",
    "                   ''')\n",
    "\n",
    "rows = cursor.fetchall()\n",
    "\n",
    "for row in rows:\n",
    "    print(row)\n",
    "\n",
    "connection.commit()\n",
    "connection.close()"
   ]
  }
 ],
 "metadata": {
  "language_info": {
   "name": "python"
  },
  "orig_nbformat": 4
 },
 "nbformat": 4,
 "nbformat_minor": 2
}
