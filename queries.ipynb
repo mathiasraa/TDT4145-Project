{
 "cells": [
  {
   "cell_type": "code",
   "execution_count": 1,
   "metadata": {},
   "outputs": [
    {
     "name": "stdout",
     "output_type": "stream",
     "text": [
      "('Gård i Colombia', 'Medellin', 'Colombia')\n",
      "('Gård i Rwanda', 'Virunga', 'Rwanda')\n",
      "('Nombre de Dios', 'Santa Ana', 'El salvador')\n",
      "\n",
      "('Bourbon', 'Coffea arabica')\n",
      "('Caturra', 'Coffea arabica')\n",
      "('Castillo', 'Coffea arabica')\n",
      "\n",
      "('Bourbon', 'Coffea arabica', '2021')\n",
      "('Bourbon', 'Coffea canephora', '2021')\n",
      "('Bourbon', 'Coffea liberica', '2021')\n"
     ]
    }
   ],
   "source": [
    "import sqlite3\n",
    "\n",
    "connection = sqlite3.connect('kaffedb.db')\n",
    "cursor = connection.cursor()\n",
    "\n",
    "cursor.execute('''select Gård.Navn, Region.Navn, Land.Navn from Gård\n",
    "                join Region\n",
    "                join Land\n",
    "                where Land_LandID = LandID and Gård.Region_RegionID = Region.RegionID''')\n",
    "\n",
    "rows = cursor.fetchall()\n",
    "\n",
    "for row in rows:\n",
    "    print(row)\n",
    "print()\n",
    "\n",
    "cursor.execute('''select Kaffebønne.Navn, KaffebønneArt.Art from Kaffebønne\n",
    "                join KaffebønneArt where KaffebønneArt_KaffebønneArtID = KaffebønneArtID''')\n",
    "\n",
    "rows = cursor.fetchall()\n",
    "\n",
    "for row in rows:\n",
    "    print(row)\n",
    "print()\n",
    "\n",
    "cursor.execute('''select Kaffebønne.Navn, KaffebønneArt.Art, Kaffeparti.Innhøstingsår from KaffepartiHarKaffebønne\n",
    "                  join Kaffebønne\n",
    "                  join KaffebønneArt\n",
    "                  join Kaffeparti\n",
    "                  where KaffepartiHarKaffebønne.Kaffebønne_KaffebønneID = Kaffebønne.KaffebønneID\n",
    "                   ''')\n",
    "\n",
    "rows = cursor.fetchall()\n",
    "\n",
    "for row in rows:\n",
    "    print(row)\n",
    "\n",
    "connection.commit()\n",
    "connection.close()\n"
   ]
  },
  {
   "cell_type": "code",
   "execution_count": 8,
   "metadata": {},
   "outputs": [
    {
     "name": "stdout",
     "output_type": "stream",
     "text": [
      "('Roger', 'Fredriksen', 1)\n",
      "('first_name', 'last_name', 0)\n",
      "('test', 'test', 0)\n"
     ]
    }
   ],
   "source": [
    "import sqlite3\n",
    "\n",
    "connection = sqlite3.connect('kaffedb.db')\n",
    "cursor = connection.cursor()\n",
    "\n",
    "cursor.execute('''\n",
    "\n",
    "select Bruker.Fornavn, Bruker.Etternavn, COUNT(DISTINCT FerdigbrentKaffeID) \n",
    "from Bruker left join Kaffesmaking on BrukerID = Bruker_BrukerID \n",
    "left join FerdigbrentKaffe on FerdigbrentKaffeID = FerdigbrentKaffe_FerdigbrentKaffeID \n",
    "GROUP BY BrukerID''')\n",
    "\n",
    "rows = cursor.fetchall()\n",
    "\n",
    "for row in rows:\n",
    "    print(row)\n",
    "\n",
    "connection.commit()\n",
    "connection.close()\n",
    "\n",
    "\n",
    "\n"
   ]
  },
  {
   "cell_type": "code",
   "execution_count": 10,
   "metadata": {},
   "outputs": [
    {
     "name": "stdout",
     "output_type": "stream",
     "text": [
      "('Jacobsen & Svart', 'Vinterkaffe 2022', 600.0, 10.0)\n"
     ]
    }
   ],
   "source": [
    "import sqlite3\n",
    "\n",
    "connection = sqlite3.connect('kaffedb.db')\n",
    "cursor = connection.cursor()\n",
    "\n",
    "cursor.execute('''\n",
    "\n",
    "SELECT Brenneri.Navn, FerdigbrentKaffe.Navn, FerdigbrentKaffe.Kilopris, AVG(Poeng) \n",
    "from Kaffesmaking \n",
    "join FerdigbrentKaffe on FerdigbrentKaffe_FerdigbrentKaffeID = FerdigbrentKaffeID \n",
    "join Brenneri on BrenneriID = Brenneri_BrenneriID \n",
    "GROUP BY FerdigbrentKaffeID \n",
    "ORDER BY kilopris/AVG(Poeng)''') \n",
    "\n",
    "rows = cursor.fetchall()\n",
    "\n",
    "for row in rows:\n",
    "    print(row)\n",
    "\n",
    "connection.commit()\n",
    "connection.close()"
   ]
  },
  {
   "cell_type": "code",
   "execution_count": 12,
   "metadata": {},
   "outputs": [],
   "source": [
    "import sqlite3\n",
    "\n",
    "connection = sqlite3.connect('kaffedb.db')\n",
    "cursor = connection.cursor()\n",
    "\n",
    "cursor.execute('''SELECT Brenneri.Navn, FerdigbrentKaffe.Navn from Kaffesmaking join FerdigbrentKaffe on FerdigbrentKaffeID = FerdigbrentKaffe_FerdigbrentKaffeID join Brenneri on BrenneriID = Brenneri_BrenneriID where Kaffesmaking.Smaksnotater LIKE('%%Wow%') or FerdigbrentKaffe.Beskrivelse LIKE('%%Wow%')''')\n",
    "\n",
    "rows = cursor.fetchall()\n",
    "\n",
    "for row in rows:\n",
    "    print(row)\n",
    "\n",
    "connection.commit()\n",
    "connection.close()\n"
   ]
  },
  {
   "cell_type": "code",
   "execution_count": 5,
   "metadata": {},
   "outputs": [
    {
     "name": "stdout",
     "output_type": "stream",
     "text": [
      "hei\n"
     ]
    }
   ],
   "source": [
    "import sqlite3\n",
    "\n",
    "connection = sqlite3.connect('kaffedb.db')\n",
    "cursor = connection.cursor()\n",
    "\n",
    "cursor.execute('''\n",
    "    WITH selectedland AS (\n",
    "        SELECT LandID as id FROM Land where\n",
    "        Navn = 'Rwanda' or Navn = 'Colombia'), \n",
    "    unwashed AS (\n",
    "        SELECT ForedlingsmetodeID as id from Foredlingsmetode \n",
    "        where Foredlingsmetode.Navn != 'Vasket')\n",
    "\n",
    "    Select Brenneri.Navn, FerdigbrentKaffe.Navn \n",
    "    from selectedland join Region on selectedland.id = Land_LandID \n",
    "    join Gård on RegionID = Region_RegionID \n",
    "    join Kaffeparti on Gård.GårdID = Kaffeparti.Gård_GårdID \n",
    "    join unwashed on unwashed.id = Foredlingsmetode_ForedlingsmetodeID \n",
    "    join FerdigbrentKaffe on KaffepartiID = Kaffeparti_KaffepartiID \n",
    "    join Brenneri on BrenneriID = Brenneri_BrenneriID''')\n",
    "    \n",
    "rows = cursor.fetchall()\n",
    "\n",
    "for row in rows:\n",
    "    print(row)\n",
    "\n",
    "\n",
    "\n",
    "connection.commit()\n",
    "connection.close()"
   ]
  },
  {
   "cell_type": "code",
   "execution_count": 11,
   "metadata": {},
   "outputs": [
    {
     "name": "stdout",
     "output_type": "stream",
     "text": [
      "2022-03-22\n"
     ]
    }
   ],
   "source": [
    "from datetime import datetime\n",
    "print(datetime.now().date())"
   ]
  },
  {
   "cell_type": "code",
   "execution_count": 14,
   "metadata": {},
   "outputs": [
    {
     "name": "stdout",
     "output_type": "stream",
     "text": [
      "[{'Navn': 'El salvador'}, {'Navn': 'Colombia'}, {'Navn': 'Rwanda'}]\n"
     ]
    }
   ],
   "source": [
    "from app.queries import run_query\n",
    "\n",
    "def dict_factory(cursor, row):\n",
    "    d = {}\n",
    "    for idx, col in enumerate(cursor.description):\n",
    "        d[col[0]] = row[idx]\n",
    "    return d\n",
    "\n",
    "def run_query(query):\n",
    "    connection = sqlite3.connect(\"kaffedb.db\")\n",
    "    connection.row_factory = dict_factory\n",
    "    cursor = connection.cursor()\n",
    "    cursor.execute(query)\n",
    "\n",
    "    rows = cursor.fetchall()\n",
    "    connection.commit()\n",
    "    connection.close()\n",
    "\n",
    "    return rows\n",
    "\n",
    "res = run_query(\n",
    "        \"\"\"\n",
    "        SELECT Navn FROM Land\n",
    "        \"\"\"\n",
    "    )\n",
    "print(res)\n"
   ]
  },
  {
   "cell_type": "code",
   "execution_count": null,
   "metadata": {},
   "outputs": [],
   "source": []
  }
 ],
 "metadata": {
  "interpreter": {
   "hash": "aee8b7b246df8f9039afb4144a1f6fd8d2ca17a180786b69acc140d282b71a49"
  },
  "kernelspec": {
   "display_name": "Python 3.10.2 64-bit",
   "language": "python",
   "name": "python3"
  },
  "language_info": {
   "codemirror_mode": {
    "name": "ipython",
    "version": 3
   },
   "file_extension": ".py",
   "mimetype": "text/x-python",
   "name": "python",
   "nbconvert_exporter": "python",
   "pygments_lexer": "ipython3",
   "version": "3.8.9"
  },
  "orig_nbformat": 4
 },
 "nbformat": 4,
 "nbformat_minor": 2
}
