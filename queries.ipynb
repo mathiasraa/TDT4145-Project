{
 "cells": [
  {
   "cell_type": "code",
   "execution_count": 2,
   "metadata": {},
   "outputs": [
    {
     "name": "stdout",
     "output_type": "stream",
     "text": [
      "('Gårdsnavn', 'RwandaRegion', 'Rwanda')\n",
      "('Nombre de Dios', 'Santa Ana', 'El Salvador')\n",
      "\n",
      "('Bourbon', 'arabica')\n",
      "\n",
      "('Bourbon', 'arabica', '2019')\n"
     ]
    }
   ],
   "source": [
    "import sqlite3\n",
    "\n",
    "connection = sqlite3.connect('kaffedb.db')\n",
    "cursor = connection.cursor()\n",
    "\n",
    "cursor.execute('''select Gård.Navn, Region.Navn, Land.Navn from Gård\n",
    "                join Region\n",
    "                join Land\n",
    "                where Land_LandID = LandID and Gård.Region_RegionID = Region.RegionID''')\n",
    "\n",
    "rows = cursor.fetchall()\n",
    "\n",
    "for row in rows:\n",
    "    print(row)\n",
    "print()\n",
    "\n",
    "cursor.execute('''select Kaffebønne.Navn, KaffebønneArt.Art from Kaffebønne\n",
    "                join KaffebønneArt where KaffebønneArt_KaffebønneArtID = KaffebønneArtID''')\n",
    "\n",
    "rows = cursor.fetchall()\n",
    "\n",
    "for row in rows:\n",
    "    print(row)\n",
    "print()\n",
    "\n",
    "cursor.execute('''select Kaffebønne.Navn, KaffebønneArt.Art, Kaffeparti.Innhøstingsår from KaffepartiHarKaffebønne\n",
    "                  join Kaffebønne\n",
    "                  join KaffebønneArt\n",
    "                  join Kaffeparti\n",
    "                  where KaffepartiHarKaffebønne.Kaffebønne_KaffebønneID = Kaffebønne.KaffebønneID\n",
    "                   ''')\n",
    "\n",
    "rows = cursor.fetchall()\n",
    "\n",
    "for row in rows:\n",
    "    print(row)\n",
    "\n",
    "connection.commit()\n",
    "connection.close()\n"
   ]
  },
  {
   "cell_type": "code",
   "execution_count": 7,
   "metadata": {},
   "outputs": [
    {
     "name": "stdout",
     "output_type": "stream",
     "text": [
      "('Roger', 'Fredriksen', 1)\n"
     ]
    }
   ],
   "source": [
    "import sqlite3\n",
    "\n",
    "connection = sqlite3.connect('kaffedb.db')\n",
    "cursor = connection.cursor()\n",
    "\n",
    "cursor.execute('''\n",
    "\n",
    "select Bruker.Fornavn, Bruker.Etternavn, COUNT(DISTINCT FerdigbrentKaffeID) \n",
    "from Bruker join Kaffesmaking on BrukerID = Bruker_BrukerID \n",
    "join FerdigbrentKaffe on FerdigbrentKaffeID = FerdigbrentKaffe_FerdigbrentKaffeID \n",
    "GROUP BY BrukerID''')\n",
    "\n",
    "rows = cursor.fetchall()\n",
    "\n",
    "for row in rows:\n",
    "    print(row)\n",
    "\n",
    "connection.commit()\n",
    "connection.close()\n",
    "\n",
    "\n",
    "\n"
   ]
  },
  {
   "cell_type": "code",
   "execution_count": 10,
   "metadata": {},
   "outputs": [
    {
     "name": "stdout",
     "output_type": "stream",
     "text": [
      "('Jacobsen & Svart', 'Vinterkaffe 2022', 600.0, 10.0)\n"
     ]
    }
   ],
   "source": [
    "import sqlite3\n",
    "\n",
    "connection = sqlite3.connect('kaffedb.db')\n",
    "cursor = connection.cursor()\n",
    "\n",
    "cursor.execute('''\n",
    "\n",
    "SELECT Brenneri.Navn, FerdigbrentKaffe.Navn, FerdigbrentKaffe.Kilopris, AVG(Poeng) \n",
    "from Kaffesmaking \n",
    "join FerdigbrentKaffe on FerdigbrentKaffe_FerdigbrentKaffeID = FerdigbrentKaffeID \n",
    "join Brenneri on BrenneriID = Brenneri_BrenneriID \n",
    "GROUP BY FerdigbrentKaffeID \n",
    "ORDER BY kilopris/AVG(Poeng)''') \n",
    "\n",
    "rows = cursor.fetchall()\n",
    "\n",
    "for row in rows:\n",
    "    print(row)\n",
    "\n",
    "connection.commit()\n",
    "connection.close()"
   ]
  },
  {
   "cell_type": "code",
   "execution_count": 12,
   "metadata": {},
   "outputs": [],
   "source": [
    "import sqlite3\n",
    "\n",
    "connection = sqlite3.connect('kaffedb.db')\n",
    "cursor = connection.cursor()\n",
    "\n",
    "cursor.execute('''SELECT Brenneri.Navn, FerdigbrentKaffe.Navn from Kaffesmaking join FerdigbrentKaffe on FerdigbrentKaffeID = FerdigbrentKaffe_FerdigbrentKaffeID join Brenneri on BrenneriID = Brenneri_BrenneriID where Kaffesmaking.Smaksnotater LIKE('%%Wow%') or FerdigbrentKaffe.Beskrivelse LIKE('%%Wow%')''')\n",
    "\n",
    "rows = cursor.fetchall()\n",
    "\n",
    "for row in rows:\n",
    "    print(row)\n",
    "\n",
    "connection.commit()\n",
    "connection.close()\n"
   ]
  },
  {
   "cell_type": "code",
   "execution_count": 5,
   "metadata": {},
   "outputs": [
    {
     "name": "stdout",
     "output_type": "stream",
     "text": [
      "hei\n"
     ]
    }
   ],
   "source": [
    "import sqlite3\n",
    "\n",
    "connection = sqlite3.connect('kaffedb.db')\n",
    "cursor = connection.cursor()\n",
    "\n",
    "cursor.execute('''\n",
    "    WITH selectedland AS (\n",
    "        SELECT LandID as id FROM Land where\n",
    "        Navn = 'Rwanda' or Navn = 'Colombia'), \n",
    "    unwashed AS (\n",
    "        SELECT ForedlingsmetodeID as id from Foredlingsmetode \n",
    "        where Foredlingsmetode.Navn != 'Vasket')\n",
    "\n",
    "    Select Brenneri.Navn, FerdigbrentKaffe.Navn \n",
    "    from selectedland join Region on selectedland.id = Land_LandID \n",
    "    join Gård on RegionID = Region_RegionID \n",
    "    join Kaffeparti on Gård.GårdID = Kaffeparti.Gård_GårdID \n",
    "    join unwashed on unwashed.id = Foredlingsmetode_ForedlingsmetodeID \n",
    "    join FerdigbrentKaffe on KaffepartiID = Kaffeparti_KaffepartiID \n",
    "    join Brenneri on BrenneriID = Brenneri_BrenneriID''')\n",
    "    \n",
    "rows = cursor.fetchall()\n",
    "\n",
    "for row in rows:\n",
    "    print(row)\n",
    "\n",
    "\n",
    "\n",
    "connection.commit()\n",
    "connection.close()"
   ]
  },
  {
   "cell_type": "code",
   "execution_count": 2,
   "metadata": {},
   "outputs": [
    {
     "name": "stdout",
     "output_type": "stream",
     "text": [
      "tasting_note\n"
     ]
    }
   ],
   "source": [
    "print({\"tasting_note\": \"tasting_note\", \"points\": \"points\"}[\"tasting_note\"])"
   ]
  }
 ],
 "metadata": {
  "interpreter": {
   "hash": "aee8b7b246df8f9039afb4144a1f6fd8d2ca17a180786b69acc140d282b71a49"
  },
  "kernelspec": {
   "display_name": "Python 3.10.2 64-bit",
   "language": "python",
   "name": "python3"
  },
  "language_info": {
   "codemirror_mode": {
    "name": "ipython",
    "version": 3
   },
   "file_extension": ".py",
   "mimetype": "text/x-python",
   "name": "python",
   "nbconvert_exporter": "python",
   "pygments_lexer": "ipython3",
   "version": "3.8.9"
  },
  "orig_nbformat": 4
 },
 "nbformat": 4,
 "nbformat_minor": 2
}
