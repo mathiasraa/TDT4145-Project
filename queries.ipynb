{
 "cells": [
  {
   "cell_type": "code",
   "execution_count": 2,
   "metadata": {},
   "outputs": [
    {
     "name": "stdout",
     "output_type": "stream",
     "text": [
      "('Gårdsnavn', 'RwandaRegion', 'Rwanda')\n",
      "('Nombre de Dios', 'Santa Ana', 'El Salvador')\n",
      "\n",
      "('Bourbon', 'arabica')\n",
      "\n",
      "('Bourbon', 'arabica', '2019')\n"
     ]
    }
   ],
   "source": [
    "import sqlite3\n",
    "\n",
    "connection = sqlite3.connect('kaffedb.db')\n",
    "cursor = connection.cursor()\n",
    "\n",
    "cursor.execute('''select Gård.Navn, Region.Navn, Land.Navn from Gård\n",
    "                join Region\n",
    "                join Land\n",
    "                where Land_LandID = LandID and Gård.Region_RegionID = Region.RegionID''')\n",
    "\n",
    "rows = cursor.fetchall()\n",
    "\n",
    "for row in rows:\n",
    "    print(row)\n",
    "print()\n",
    "\n",
    "cursor.execute('''select Kaffebønne.Navn, KaffebønneArt.Art from Kaffebønne\n",
    "                join KaffebønneArt where KaffebønneArt_KaffebønneArtID = KaffebønneArtID''')\n",
    "\n",
    "rows = cursor.fetchall()\n",
    "\n",
    "for row in rows:\n",
    "    print(row)\n",
    "print()\n",
    "\n",
    "cursor.execute('''select Kaffebønne.Navn, KaffebønneArt.Art, Kaffeparti.Innhøstingsår from KaffepartiHarKaffebønne\n",
    "                  join Kaffebønne\n",
    "                  join KaffebønneArt\n",
    "                  join Kaffeparti\n",
    "                  where KaffepartiHarKaffebønne.Kaffebønne_KaffebønneID = Kaffebønne.KaffebønneID\n",
    "                   ''')\n",
    "\n",
    "rows = cursor.fetchall()\n",
    "\n",
    "for row in rows:\n",
    "    print(row)\n",
    "\n",
    "connection.commit()\n",
    "connection.close()\n"
   ]
  },
  {
   "cell_type": "code",
   "execution_count": 7,
   "metadata": {},
   "outputs": [
    {
     "name": "stdout",
     "output_type": "stream",
     "text": [
      "('Roger', 'Fredriksen', 1)\n"
     ]
    }
   ],
   "source": [
    "import sqlite3\n",
    "\n",
    "connection = sqlite3.connect('kaffedb.db')\n",
    "cursor = connection.cursor()\n",
    "\n",
    "cursor.execute('''select Bruker.Fornavn, Bruker.Etternavn, COUNT(DISTINCT FerdigbrentKaffeID) from Bruker join Kaffesmaking on BrukerID = Bruker_BrukerID join FerdigbrentKaffe on FerdigbrentKaffeID = FerdigbrentKaffe_FerdigbrentKaffeID GROUP BY BrukerID''')\n",
    "\n",
    "rows = cursor.fetchall()\n",
    "\n",
    "for row in rows:\n",
    "    print(row)\n",
    "\n",
    "connection.commit()\n",
    "connection.close()\n",
    "\n",
    "\n",
    "\n"
   ]
  },
  {
   "cell_type": "code",
   "execution_count": 10,
   "metadata": {},
   "outputs": [
    {
     "name": "stdout",
     "output_type": "stream",
     "text": [
      "('Jacobsen & Svart', 'Vinterkaffe 2022', 600.0, 10.0)\n"
     ]
    }
   ],
   "source": [
    "import sqlite3\n",
    "\n",
    "connection = sqlite3.connect('kaffedb.db')\n",
    "cursor = connection.cursor()\n",
    "\n",
    "cursor.execute('''SELECT Brenneri.Navn, FerdigbrentKaffe.Navn, FerdigbrentKaffe.Kilopris, AVG(Poeng) from Kaffesmaking join FerdigbrentKaffe on FerdigbrentKaffe_FerdigbrentKaffeID = FerdigbrentKaffeID join Brenneri on BrenneriID = Brenneri_BrenneriID GROUP BY FerdigbrentKaffeID ORDER BY kilopris/AVG(Poeng)''') #Usikker på om det siste her kommer til å fungere\n",
    "\n",
    "rows = cursor.fetchall()\n",
    "\n",
    "for row in rows:\n",
    "    print(row)\n",
    "\n",
    "connection.commit()\n",
    "connection.close()"
   ]
  },
  {
   "cell_type": "code",
   "execution_count": 12,
   "metadata": {},
   "outputs": [],
   "source": [
    "import sqlite3\n",
    "\n",
    "connection = sqlite3.connect('kaffedb.db')\n",
    "cursor = connection.cursor()\n",
    "\n",
    "cursor.execute('''SELECT Brenneri.Navn, FerdigbrentKaffe.Navn from Kaffesmaking join FerdigbrentKaffe on FerdigbrentKaffeID = FerdigbrentKaffe_FerdigbrentKaffeID join Brenneri on BrenneriID = Brenneri_BrenneriID where Kaffesmaking.Smaksnotater LIKE('%%floral%') or FerdigbrentKaffe.Beskrivelse LIKE('%%floral%')''')\n",
    "\n",
    "rows = cursor.fetchall()\n",
    "\n",
    "for row in rows:\n",
    "    print(row)\n",
    "\n",
    "connection.commit()\n",
    "connection.close()\n"
   ]
  },
  {
   "cell_type": "code",
   "execution_count": null,
   "metadata": {},
   "outputs": [],
   "source": [
    "import sqlite3\n",
    "\n",
    "connection = sqlite3.connect('kaffedb.db')\n",
    "cursor = connection.cursor()\n",
    "\n",
    "cursor.execute('''WITH vland AS(SELECT Land.id FROM Land where Navn = 'Rwanda' or Navn = 'Colombia'), uvasket AS(SELECT ForedlingsmetodeID from Foredlingsmetode where Foredlingsmetode.Navn != 'Vasket')\n",
    "\n",
    "Select Brenneri.Navn, FerdigbrentKaffeID\n",
    "''')\n",
    "\n",
    "rows = cursor.fetchall()\n",
    "\n",
    "for row in rows:\n",
    "    print(row)\n",
    "\n",
    "connection.commit()\n",
    "connection.close()"
   ]
  }
 ],
 "metadata": {
  "interpreter": {
   "hash": "aee8b7b246df8f9039afb4144a1f6fd8d2ca17a180786b69acc140d282b71a49"
  },
  "kernelspec": {
   "display_name": "Python 3.10.2 64-bit",
   "language": "python",
   "name": "python3"
  },
  "language_info": {
   "codemirror_mode": {
    "name": "ipython",
    "version": 3
   },
   "file_extension": ".py",
   "mimetype": "text/x-python",
   "name": "python",
   "nbconvert_exporter": "python",
   "pygments_lexer": "ipython3",
   "version": "3.10.2"
  },
  "orig_nbformat": 4
 },
 "nbformat": 4,
 "nbformat_minor": 2
}
